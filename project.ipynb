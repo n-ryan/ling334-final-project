{
 "cells": [
  {
   "attachments": {},
   "cell_type": "markdown",
   "metadata": {},
   "source": [
    "# LING 334 Final Project: Machine Translation using LSTM"
   ]
  },
  {
   "attachments": {},
   "cell_type": "markdown",
   "metadata": {},
   "source": [
    "## Imports"
   ]
  },
  {
   "cell_type": "code",
   "execution_count": 21,
   "metadata": {},
   "outputs": [],
   "source": [
    "import torch\n",
    "import pickle\n",
    "from spacy.lang.en import English\n",
    "from spacy.lang.fr import French"
   ]
  },
  {
   "attachments": {},
   "cell_type": "markdown",
   "metadata": {},
   "source": [
    "## Training data"
   ]
  },
  {
   "attachments": {},
   "cell_type": "markdown",
   "metadata": {},
   "source": [
    "### File path definitions"
   ]
  },
  {
   "cell_type": "code",
   "execution_count": 8,
   "metadata": {},
   "outputs": [],
   "source": [
    "EN_PATH = 'data/fr-en/europarl-v7.fr-en.en'\n",
    "FR_PATH = 'data/fr-en/europarl-v7.fr-en.fr'\n",
    "FR_EN_PAIRS_PATH = 'data/fr-en_pairs.pickle'"
   ]
  },
  {
   "attachments": {},
   "cell_type": "markdown",
   "metadata": {},
   "source": [
    "### Combining data into one file"
   ]
  },
  {
   "cell_type": "code",
   "execution_count": 17,
   "metadata": {},
   "outputs": [],
   "source": [
    "sentence_pairs = []\n",
    "with open(EN_PATH) as en:\n",
    "    en = en.readlines()\n",
    "    with open(FR_PATH) as fr:\n",
    "        fr = fr.readlines()\n",
    "        for i in range(len(en)):\n",
    "            sentence_pairs.append({'en': en[i].strip(),\n",
    "                                   'fr': fr[i].strip()})\n",
    "with open(FR_EN_PAIRS_PATH, 'wb') as pairs_file:\n",
    "    pickle.dump(sentence_pairs, pairs_file)"
   ]
  },
  {
   "cell_type": "code",
   "execution_count": 19,
   "metadata": {},
   "outputs": [],
   "source": [
    "with open(FR_EN_PAIRS_PATH, 'rb') as fr_en_file:\n",
    "    fr_en = pickle.load(fr_en_file)"
   ]
  }
 ],
 "metadata": {
  "kernelspec": {
   "display_name": "Python 3",
   "language": "python",
   "name": "python3"
  },
  "language_info": {
   "codemirror_mode": {
    "name": "ipython",
    "version": 3
   },
   "file_extension": ".py",
   "mimetype": "text/x-python",
   "name": "python",
   "nbconvert_exporter": "python",
   "pygments_lexer": "ipython3",
   "version": "3.10.11"
  },
  "orig_nbformat": 4
 },
 "nbformat": 4,
 "nbformat_minor": 2
}
